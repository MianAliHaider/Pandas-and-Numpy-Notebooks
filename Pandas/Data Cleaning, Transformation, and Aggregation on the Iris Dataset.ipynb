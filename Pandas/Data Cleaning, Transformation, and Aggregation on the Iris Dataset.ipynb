{
 "cells": [
  {
   "cell_type": "code",
   "execution_count": 1,
   "id": "f97103d5-e3e1-4a7d-827a-b1c41592dac3",
   "metadata": {},
   "outputs": [],
   "source": [
    "import pandas as pd\n",
    "import numpy as np\n",
    "import warnings\n",
    "warnings.filterwarnings('ignore')"
   ]
  },
  {
   "cell_type": "markdown",
   "id": "e5c3ab2f-6d41-4e04-b2de-4350895b9b8b",
   "metadata": {},
   "source": [
    "## Task 1"
   ]
  },
  {
   "cell_type": "code",
   "execution_count": 3,
   "id": "f882926a-ff74-4ca5-bb49-30f74217d00a",
   "metadata": {},
   "outputs": [
    {
     "data": {
      "text/html": [
       "<div>\n",
       "<style scoped>\n",
       "    .dataframe tbody tr th:only-of-type {\n",
       "        vertical-align: middle;\n",
       "    }\n",
       "\n",
       "    .dataframe tbody tr th {\n",
       "        vertical-align: top;\n",
       "    }\n",
       "\n",
       "    .dataframe thead th {\n",
       "        text-align: right;\n",
       "    }\n",
       "</style>\n",
       "<table border=\"1\" class=\"dataframe\">\n",
       "  <thead>\n",
       "    <tr style=\"text-align: right;\">\n",
       "      <th></th>\n",
       "      <th>Id</th>\n",
       "      <th>SepalLengthCm</th>\n",
       "      <th>SepalWidthCm</th>\n",
       "      <th>PetalLengthCm</th>\n",
       "      <th>PetalWidthCm</th>\n",
       "      <th>Species</th>\n",
       "    </tr>\n",
       "  </thead>\n",
       "  <tbody>\n",
       "    <tr>\n",
       "      <th>0</th>\n",
       "      <td>1</td>\n",
       "      <td>5.1</td>\n",
       "      <td>3.5</td>\n",
       "      <td>1.4</td>\n",
       "      <td>0.2</td>\n",
       "      <td>Iris-setosa</td>\n",
       "    </tr>\n",
       "    <tr>\n",
       "      <th>1</th>\n",
       "      <td>2</td>\n",
       "      <td>4.9</td>\n",
       "      <td>3.0</td>\n",
       "      <td>1.4</td>\n",
       "      <td>0.2</td>\n",
       "      <td>Iris-setosa</td>\n",
       "    </tr>\n",
       "    <tr>\n",
       "      <th>2</th>\n",
       "      <td>3</td>\n",
       "      <td>4.7</td>\n",
       "      <td>3.2</td>\n",
       "      <td>1.3</td>\n",
       "      <td>0.2</td>\n",
       "      <td>Iris-setosa</td>\n",
       "    </tr>\n",
       "    <tr>\n",
       "      <th>3</th>\n",
       "      <td>4</td>\n",
       "      <td>4.6</td>\n",
       "      <td>3.1</td>\n",
       "      <td>1.5</td>\n",
       "      <td>0.2</td>\n",
       "      <td>Iris-setosa</td>\n",
       "    </tr>\n",
       "    <tr>\n",
       "      <th>4</th>\n",
       "      <td>5</td>\n",
       "      <td>5.0</td>\n",
       "      <td>3.6</td>\n",
       "      <td>1.4</td>\n",
       "      <td>0.2</td>\n",
       "      <td>Iris-setosa</td>\n",
       "    </tr>\n",
       "  </tbody>\n",
       "</table>\n",
       "</div>"
      ],
      "text/plain": [
       "   Id  SepalLengthCm  SepalWidthCm  PetalLengthCm  PetalWidthCm      Species\n",
       "0   1            5.1           3.5            1.4           0.2  Iris-setosa\n",
       "1   2            4.9           3.0            1.4           0.2  Iris-setosa\n",
       "2   3            4.7           3.2            1.3           0.2  Iris-setosa\n",
       "3   4            4.6           3.1            1.5           0.2  Iris-setosa\n",
       "4   5            5.0           3.6            1.4           0.2  Iris-setosa"
      ]
     },
     "execution_count": 3,
     "metadata": {},
     "output_type": "execute_result"
    }
   ],
   "source": [
    "df = pd.read_csv('iris.csv')\n",
    "df.head()"
   ]
  },
  {
   "cell_type": "markdown",
   "id": "a2942a14-57aa-4510-843a-445a2f097d02",
   "metadata": {},
   "source": [
    "## Identifying and Imputing Missing Data \n",
    "     • Locate Missing Data: Examine the dataset to locate any missing values. Identify the columns with missing data and report how many missing   values are present in each column. \n",
    "     • Handle Missing Data in Numerical Columns: Fill in missing values for numeric columns (i.e., sepal_length, sepal_width, petal_length, petal_width) using the median value of each column. Justify why you chose this approach. \n",
    "     • Handle Missing Data in Categorical Columns: Identify if there are missing values in the species column. If so, impute them with the most frequent value (mode) in the column."
   ]
  },
  {
   "cell_type": "code",
   "execution_count": 4,
   "id": "28e19a5e-dcd9-4b50-b386-278e87dea091",
   "metadata": {},
   "outputs": [
    {
     "name": "stdout",
     "output_type": "stream",
     "text": [
      "Missing values per column:\n",
      " Id               0\n",
      "SepalLengthCm    0\n",
      "SepalWidthCm     0\n",
      "PetalLengthCm    0\n",
      "PetalWidthCm     0\n",
      "Species          0\n",
      "dtype: int64\n"
     ]
    }
   ],
   "source": [
    "missing_data = df.isnull().sum()\n",
    "print(\"Missing values per column:\\n\",missing_data)\n",
    "\n",
    "for col in ['SepalLengthCm','SepalWidthCm','PetalLengthCm','PetalWidthCm']:\n",
    "    median_value = df[col].median()\n",
    "    df[col].fillna(median_value, inplace=True)\n",
    "\n",
    "if df['Species'].isnull().any():\n",
    "    mode_value = df['Species'].mode()[0]\n",
    "    df['Species'].fillna(mode_value, inplace=True)"
   ]
  },
  {
   "cell_type": "markdown",
   "id": "63ae5a2e-4462-48b1-a5bd-86d41142f663",
   "metadata": {},
   "source": [
    "## Task 2"
   ]
  },
  {
   "cell_type": "markdown",
   "id": "e4a8f926-1c39-4fa5-b001-57740154ad24",
   "metadata": {},
   "source": [
    "## Data Integrity and Transformation \n",
    "    • Remove Duplicate Records: Review the dataset for duplicate rows (where all values in a row are identical) and remove any duplicates found. Ensure that only one unique record per flower remains in the dataset. \n",
    "    • Feature Engineering: Create a new feature called total_area by adding the areas of both the sepal and petal. To do this, create separate columns for the sepal area and petal area and then add them to form the total_area column. \n",
    "    • Handling Missing Values Again: After imputing missing data, inspect the dataset again and drop any rows that still have missing values in any of the columns. "
   ]
  },
  {
   "cell_type": "code",
   "execution_count": 6,
   "id": "01364c59-9d92-4025-9bee-8edddb5f3cbd",
   "metadata": {},
   "outputs": [],
   "source": [
    "df = df.drop_duplicates()\n",
    "\n",
    "df['sepal_area'] = df['SepalLengthCm'] * df['SepalWidthCm']\n",
    "df['petal_area'] = df['PetalLengthCm'] * df['PetalWidthCm']\n",
    "df['total_area'] = df['sepal_area'] + df['petal_area']\n",
    "\n",
    "if df.isnull().any().any():\n",
    "    df = df.dropna()"
   ]
  },
  {
   "cell_type": "code",
   "execution_count": 7,
   "id": "1d37a2bc-5dcb-41d7-b082-386ffd27237a",
   "metadata": {},
   "outputs": [
    {
     "data": {
      "text/html": [
       "<div>\n",
       "<style scoped>\n",
       "    .dataframe tbody tr th:only-of-type {\n",
       "        vertical-align: middle;\n",
       "    }\n",
       "\n",
       "    .dataframe tbody tr th {\n",
       "        vertical-align: top;\n",
       "    }\n",
       "\n",
       "    .dataframe thead th {\n",
       "        text-align: right;\n",
       "    }\n",
       "</style>\n",
       "<table border=\"1\" class=\"dataframe\">\n",
       "  <thead>\n",
       "    <tr style=\"text-align: right;\">\n",
       "      <th></th>\n",
       "      <th>Id</th>\n",
       "      <th>SepalLengthCm</th>\n",
       "      <th>SepalWidthCm</th>\n",
       "      <th>PetalLengthCm</th>\n",
       "      <th>PetalWidthCm</th>\n",
       "      <th>Species</th>\n",
       "      <th>sepal_area</th>\n",
       "      <th>petal_area</th>\n",
       "      <th>total_area</th>\n",
       "    </tr>\n",
       "  </thead>\n",
       "  <tbody>\n",
       "    <tr>\n",
       "      <th>0</th>\n",
       "      <td>1</td>\n",
       "      <td>5.1</td>\n",
       "      <td>3.5</td>\n",
       "      <td>1.4</td>\n",
       "      <td>0.2</td>\n",
       "      <td>Iris-setosa</td>\n",
       "      <td>17.85</td>\n",
       "      <td>0.28</td>\n",
       "      <td>18.13</td>\n",
       "    </tr>\n",
       "    <tr>\n",
       "      <th>1</th>\n",
       "      <td>2</td>\n",
       "      <td>4.9</td>\n",
       "      <td>3.0</td>\n",
       "      <td>1.4</td>\n",
       "      <td>0.2</td>\n",
       "      <td>Iris-setosa</td>\n",
       "      <td>14.70</td>\n",
       "      <td>0.28</td>\n",
       "      <td>14.98</td>\n",
       "    </tr>\n",
       "    <tr>\n",
       "      <th>2</th>\n",
       "      <td>3</td>\n",
       "      <td>4.7</td>\n",
       "      <td>3.2</td>\n",
       "      <td>1.3</td>\n",
       "      <td>0.2</td>\n",
       "      <td>Iris-setosa</td>\n",
       "      <td>15.04</td>\n",
       "      <td>0.26</td>\n",
       "      <td>15.30</td>\n",
       "    </tr>\n",
       "    <tr>\n",
       "      <th>3</th>\n",
       "      <td>4</td>\n",
       "      <td>4.6</td>\n",
       "      <td>3.1</td>\n",
       "      <td>1.5</td>\n",
       "      <td>0.2</td>\n",
       "      <td>Iris-setosa</td>\n",
       "      <td>14.26</td>\n",
       "      <td>0.30</td>\n",
       "      <td>14.56</td>\n",
       "    </tr>\n",
       "    <tr>\n",
       "      <th>4</th>\n",
       "      <td>5</td>\n",
       "      <td>5.0</td>\n",
       "      <td>3.6</td>\n",
       "      <td>1.4</td>\n",
       "      <td>0.2</td>\n",
       "      <td>Iris-setosa</td>\n",
       "      <td>18.00</td>\n",
       "      <td>0.28</td>\n",
       "      <td>18.28</td>\n",
       "    </tr>\n",
       "    <tr>\n",
       "      <th>...</th>\n",
       "      <td>...</td>\n",
       "      <td>...</td>\n",
       "      <td>...</td>\n",
       "      <td>...</td>\n",
       "      <td>...</td>\n",
       "      <td>...</td>\n",
       "      <td>...</td>\n",
       "      <td>...</td>\n",
       "      <td>...</td>\n",
       "    </tr>\n",
       "    <tr>\n",
       "      <th>145</th>\n",
       "      <td>146</td>\n",
       "      <td>6.7</td>\n",
       "      <td>3.0</td>\n",
       "      <td>5.2</td>\n",
       "      <td>2.3</td>\n",
       "      <td>Iris-virginica</td>\n",
       "      <td>20.10</td>\n",
       "      <td>11.96</td>\n",
       "      <td>32.06</td>\n",
       "    </tr>\n",
       "    <tr>\n",
       "      <th>146</th>\n",
       "      <td>147</td>\n",
       "      <td>6.3</td>\n",
       "      <td>2.5</td>\n",
       "      <td>5.0</td>\n",
       "      <td>1.9</td>\n",
       "      <td>Iris-virginica</td>\n",
       "      <td>15.75</td>\n",
       "      <td>9.50</td>\n",
       "      <td>25.25</td>\n",
       "    </tr>\n",
       "    <tr>\n",
       "      <th>147</th>\n",
       "      <td>148</td>\n",
       "      <td>6.5</td>\n",
       "      <td>3.0</td>\n",
       "      <td>5.2</td>\n",
       "      <td>2.0</td>\n",
       "      <td>Iris-virginica</td>\n",
       "      <td>19.50</td>\n",
       "      <td>10.40</td>\n",
       "      <td>29.90</td>\n",
       "    </tr>\n",
       "    <tr>\n",
       "      <th>148</th>\n",
       "      <td>149</td>\n",
       "      <td>6.2</td>\n",
       "      <td>3.4</td>\n",
       "      <td>5.4</td>\n",
       "      <td>2.3</td>\n",
       "      <td>Iris-virginica</td>\n",
       "      <td>21.08</td>\n",
       "      <td>12.42</td>\n",
       "      <td>33.50</td>\n",
       "    </tr>\n",
       "    <tr>\n",
       "      <th>149</th>\n",
       "      <td>150</td>\n",
       "      <td>5.9</td>\n",
       "      <td>3.0</td>\n",
       "      <td>5.1</td>\n",
       "      <td>1.8</td>\n",
       "      <td>Iris-virginica</td>\n",
       "      <td>17.70</td>\n",
       "      <td>9.18</td>\n",
       "      <td>26.88</td>\n",
       "    </tr>\n",
       "  </tbody>\n",
       "</table>\n",
       "<p>150 rows × 9 columns</p>\n",
       "</div>"
      ],
      "text/plain": [
       "      Id  SepalLengthCm  SepalWidthCm  PetalLengthCm  PetalWidthCm  \\\n",
       "0      1            5.1           3.5            1.4           0.2   \n",
       "1      2            4.9           3.0            1.4           0.2   \n",
       "2      3            4.7           3.2            1.3           0.2   \n",
       "3      4            4.6           3.1            1.5           0.2   \n",
       "4      5            5.0           3.6            1.4           0.2   \n",
       "..   ...            ...           ...            ...           ...   \n",
       "145  146            6.7           3.0            5.2           2.3   \n",
       "146  147            6.3           2.5            5.0           1.9   \n",
       "147  148            6.5           3.0            5.2           2.0   \n",
       "148  149            6.2           3.4            5.4           2.3   \n",
       "149  150            5.9           3.0            5.1           1.8   \n",
       "\n",
       "            Species  sepal_area  petal_area  total_area  \n",
       "0       Iris-setosa       17.85        0.28       18.13  \n",
       "1       Iris-setosa       14.70        0.28       14.98  \n",
       "2       Iris-setosa       15.04        0.26       15.30  \n",
       "3       Iris-setosa       14.26        0.30       14.56  \n",
       "4       Iris-setosa       18.00        0.28       18.28  \n",
       "..              ...         ...         ...         ...  \n",
       "145  Iris-virginica       20.10       11.96       32.06  \n",
       "146  Iris-virginica       15.75        9.50       25.25  \n",
       "147  Iris-virginica       19.50       10.40       29.90  \n",
       "148  Iris-virginica       21.08       12.42       33.50  \n",
       "149  Iris-virginica       17.70        9.18       26.88  \n",
       "\n",
       "[150 rows x 9 columns]"
      ]
     },
     "execution_count": 7,
     "metadata": {},
     "output_type": "execute_result"
    }
   ],
   "source": [
    "df"
   ]
  },
  {
   "cell_type": "markdown",
   "id": "eeb4041e-f80a-4910-b871-c0c1471464d2",
   "metadata": {},
   "source": [
    "## Task 3"
   ]
  },
  {
   "cell_type": "markdown",
   "id": "2fc271b2-3de5-407b-872e-e2324e8c8a42",
   "metadata": {},
   "source": [
    "## Aggregation and Data Transformation \n",
    "    • Numerical Conversion of Categorical Data: Convert the species column, which is categorical, into a numerical format by assigning each species a unique number (e.g., 0, 1, 2). \n",
    "    • Apply Grouped Aggregation: Using the transformed data, group the flowers by species and calculate the total sum of the numeric columns (sepal_length, sepal_width, petal_length, petal_width). Present the results in a table that shows the sum of each feature per species."
   ]
  },
  {
   "cell_type": "code",
   "execution_count": 9,
   "id": "7f000913-9935-45f9-93fc-fbbda8cc7fb1",
   "metadata": {},
   "outputs": [
    {
     "name": "stdout",
     "output_type": "stream",
     "text": [
      "Grouped Aggregation (Sum of Features by Species):\n",
      "                 SepalLengthCm  SepalWidthCm  PetalLengthCm  PetalWidthCm\n",
      "species_numeric                                                          \n",
      "0                        250.3         170.9           73.2          12.2\n",
      "1                        296.8         138.5          213.0          66.3\n",
      "2                        329.4         148.7          277.6         101.3\n"
     ]
    }
   ],
   "source": [
    "df['species_numeric'] = df['Species'].astype('category').cat.codes\n",
    "aggregation = df.groupby('species_numeric')[['SepalLengthCm', 'SepalWidthCm', 'PetalLengthCm', 'PetalWidthCm']].sum()\n",
    "print(\"Grouped Aggregation (Sum of Features by Species):\")\n",
    "print(aggregation)"
   ]
  },
  {
   "cell_type": "markdown",
   "id": "1519dbef-6891-4cae-8e1d-f952c01438cc",
   "metadata": {},
   "source": [
    "## Task 4"
   ]
  },
  {
   "cell_type": "markdown",
   "id": "50cd157c-a6c1-48cd-ab3a-8c8041c4f73a",
   "metadata": {},
   "source": [
    "## Data Reshaping \n",
    "    • Reshape the Dataset into a Long Format: Reshape the dataset so that each flower's attributes (sepal length, sepal width, etc.) are stacked in a single column, with a new column indicating the attribute type (e.g., sepal_length, sepal_width, etc.)."
   ]
  },
  {
   "cell_type": "code",
   "execution_count": 11,
   "id": "28e06527-ccf0-484f-9f04-b6c3748235df",
   "metadata": {},
   "outputs": [
    {
     "name": "stdout",
     "output_type": "stream",
     "text": [
      "Reshaped Dataset (Long Format):\n",
      "       Species  species_numeric      attribute  value\n",
      "0  Iris-setosa                0  SepalLengthCm    5.1\n",
      "1  Iris-setosa                0  SepalLengthCm    4.9\n",
      "2  Iris-setosa                0  SepalLengthCm    4.7\n",
      "3  Iris-setosa                0  SepalLengthCm    4.6\n",
      "4  Iris-setosa                0  SepalLengthCm    5.0\n",
      "Cleaned dataset saved to iris_cleaned.csv\n",
      "Reshaped dataset saved to iris_long_format.csv\n"
     ]
    }
   ],
   "source": [
    "df_long = pd.melt(df, id_vars=['Species', 'species_numeric'], \n",
    "                  value_vars=['SepalLengthCm', 'SepalWidthCm', 'PetalLengthCm', 'PetalWidthCm', 'sepal_area', 'petal_area', 'total_area'],\n",
    "                  var_name='attribute', value_name='value')\n",
    "\n",
    "print(\"Reshaped Dataset (Long Format):\")\n",
    "print(df_long.head())\n",
    "\n",
    "\n",
    "cleaned_filename = 'iris_cleaned.csv'\n",
    "df.to_csv(cleaned_filename, index=False)\n",
    "print(f\"Cleaned dataset saved to {cleaned_filename}\")\n",
    "\n",
    "reshaped_filename = 'iris_long_format.csv'\n",
    "df_long.to_csv(reshaped_filename, index=False)\n",
    "print(f\"Reshaped dataset saved to {reshaped_filename}\")\n"
   ]
  },
  {
   "cell_type": "code",
   "execution_count": null,
   "id": "a4b7a563-7b07-482f-9349-f524f0fed45d",
   "metadata": {},
   "outputs": [],
   "source": []
  }
 ],
 "metadata": {
  "kernelspec": {
   "display_name": "Python 3 (ipykernel)",
   "language": "python",
   "name": "python3"
  },
  "language_info": {
   "codemirror_mode": {
    "name": "ipython",
    "version": 3
   },
   "file_extension": ".py",
   "mimetype": "text/x-python",
   "name": "python",
   "nbconvert_exporter": "python",
   "pygments_lexer": "ipython3",
   "version": "3.12.4"
  }
 },
 "nbformat": 4,
 "nbformat_minor": 5
}
