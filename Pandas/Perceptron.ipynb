{
 "cells": [
  {
   "cell_type": "markdown",
   "id": "e5aa4b8b-98a9-48f4-bcee-bec99c2a83c9",
   "metadata": {},
   "source": [
    "## Tasks for Students: \r",
    "    \n",
    "1. Perceptron Implementation:         \r\n",
    "o Train a Perceptron using the dataset provided.         \r\n",
    "o Visualize the decision boundary    . \r\n",
    "2. XOR Proble        m: \r\n",
    "o Use a neural network with one hidden layer to solve X        OR. \r\n",
    "o Visualize the decision boundary using a mesh g    rid. \r\n",
    "3. Visualizat        ions: \r\n",
    "o Plot decision boundaries for both Perceptron and XOR tasks. "
   ]
  },
  {
   "cell_type": "markdown",
   "id": "1df050d6-dc35-4a4e-bcfe-e44f95e46e32",
   "metadata": {},
   "source": [
    "## Code Template: \n",
    "# Perceptron Implementation \n",
    "def perceptron(X, y, learning_rate, epochs): \n",
    "\"\"\" \n",
    "Train a Perceptron model. \n",
    "\"\"\" \n",
    "pass \n",
    "def plot_perceptron_boundary(X, y, weights, bias): \n",
    "\"\"\" \n",
    "Visualize the decision boundary for the Perceptron. \n",
    "\"\"\" \n",
    "pass \n",
    "# XOR Neural Network Implementation \n",
    "def train_xor_nn(X, y): \n",
    "\"\"\" \n",
    "Train a neural network to solve the XOR problem. \n",
    "\"\"\" \n",
    "pass \n",
    "def visualize_xor_boundary(model, X, y): \n",
    "\"\"\" \n",
    "Visualize the decision boundary for the XOR problem. \n",
    "\"\"\" \n",
    "pass"
   ]
  },
  {
   "cell_type": "code",
   "execution_count": 2,
   "id": "1e4b9855-9ddd-4413-b0f6-ad56354b50f8",
   "metadata": {},
   "outputs": [
    {
     "name": "stdout",
     "output_type": "stream",
     "text": [
      "Epoch 0: Loss = 0.7965\n",
      "Epoch 100: Loss = 0.7372\n",
      "Epoch 200: Loss = 1.0165\n",
      "Epoch 300: Loss = 1.3031\n",
      "Epoch 400: Loss = 1.5276\n",
      "Epoch 500: Loss = 1.7112\n",
      "Epoch 600: Loss = 1.8686\n",
      "Epoch 700: Loss = 2.0080\n",
      "Epoch 800: Loss = 2.1339\n",
      "Epoch 900: Loss = 2.2493\n"
     ]
    },
    {
     "data": {
      "image/png": "[encoded data removed]",
      "text/plain": [
       "<Figure size 640x480 with 1 Axes>"
      ]
     },
     "metadata": {},
     "output_type": "display_data"
    }
   ],
   "source": [
    "import numpy as np\n",
    "import matplotlib.pyplot as plt\n",
    "\n",
    "X = np.array([[0.1, 0.6],\n",
    "              [0.15, 0.71],\n",
    "              [0.25, 0.8],\n",
    "              [0.35, 0.45],\n",
    "              [0.5, 0.5],\n",
    "              [0.6, 0.2],\n",
    "              [0.65, 0.3],\n",
    "              [0.8, 0.35]])\n",
    "y = np.array([1, 1, 1, 1, 0, 0, 0, 0])\n",
    "\n",
    "def initialize_parameters(input_size, hidden_size, output_size):\n",
    "    weights = {\n",
    "        \"W1\": np.random.randn(input_size, hidden_size),\n",
    "        \"b1\": np.zeros((1, hidden_size)),\n",
    "        \"W2\": np.random.randn(hidden_size, output_size),\n",
    "        \"b2\": np.zeros((1, output_size))\n",
    "    }\n",
    "    return weights\n",
    "\n",
    "def forward_propagation(X, weights):\n",
    "    Z1 = np.dot(X, weights[\"W1\"]) + weights[\"b1\"]\n",
    "    A1 = np.tanh(Z1)\n",
    "    Z2 = np.dot(A1, weights[\"W2\"]) + weights[\"b2\"]\n",
    "    A2 = 1 / (1 + np.exp(-Z2))  # Sigmoid activation\n",
    "    cache = {\"Z1\": Z1, \"A1\": A1, \"Z2\": Z2, \"A2\": A2}\n",
    "    return A2, cache\n",
    "\n",
    "def compute_loss(y_true, y_pred):\n",
    "    m = y_true.shape[0]\n",
    "    loss = -np.mean(y_true * np.log(y_pred) + (1 - y_true) * np.log(1 - y_pred))\n",
    "    return loss\n",
    "\n",
    "def backward_propagation(X, y, weights, cache):\n",
    "    m = X.shape[0]\n",
    "    A1, A2 = cache[\"A1\"], cache[\"A2\"]\n",
    "    dZ2 = A2 - y.reshape(-1, 1)\n",
    "    dW2 = np.dot(A1.T, dZ2) / m\n",
    "    db2 = np.sum(dZ2, axis=0, keepdims=True) / m\n",
    "    dZ1 = np.dot(dZ2, weights[\"W2\"].T) * (1 - np.power(A1, 2))\n",
    "    dW1 = np.dot(X.T, dZ1) / m\n",
    "    db1 = np.sum(dZ1, axis=0, keepdims=True) / m\n",
    "    gradients = {\"dW1\": dW1, \"db1\": db1, \"dW2\": dW2, \"db2\": db2}\n",
    "    return gradients\n",
    "\n",
    "def update_parameters(weights, gradients, learning_rate):\n",
    "    for key in weights:\n",
    "        weights[key] -= learning_rate * gradients[\"d\" + key]\n",
    "    return weights\n",
    "\n",
    "def train_network(X, y, hidden_size, learning_rate, epochs):\n",
    "    input_size = X.shape[1]\n",
    "    output_size = 1\n",
    "    weights = initialize_parameters(input_size, hidden_size, output_size)\n",
    "    for epoch in range(epochs):\n",
    "        y_pred, cache = forward_propagation(X, weights)\n",
    "        loss = compute_loss(y, y_pred)\n",
    "        gradients = backward_propagation(X, y, weights, cache)\n",
    "        weights = update_parameters(weights, gradients, learning_rate)\n",
    "        if epoch % 100 == 0:\n",
    "            print(f\"Epoch {epoch}: Loss = {loss:.4f}\")\n",
    "    return weights\n",
    "\n",
    "def plot_decision_boundary(X, y, weights):\n",
    "    x_min, x_max = X[:, 0].min() - 0.1, X[:, 0].max() + 0.1\n",
    "    y_min, y_max = X[:, 1].min() - 0.1, X[:, 1].max() + 0.1\n",
    "    xx, yy = np.meshgrid(np.arange(x_min, x_max, 0.01),\n",
    "                         np.arange(y_min, y_max, 0.01))\n",
    "    Z, _ = forward_propagation(np.c_[xx.ravel(), yy.ravel()], weights)\n",
    "    Z = Z.reshape(xx.shape)\n",
    "    plt.contourf(xx, yy, Z, levels=[0, 0.5, 1], alpha=0.7, cmap=plt.cm.Paired)\n",
    "    plt.scatter(X[:, 0], X[:, 1], c=y, edgecolors='k', cmap=plt.cm.Paired)\n",
    "    plt.title(\"Decision Boundary\")\n",
    "    plt.show()\n",
    "\n",
    "hidden_size = 4\n",
    "learning_rate = 0.1\n",
    "epochs = 1000\n",
    "\n",
    "trained_weights = train_network(X, y, hidden_size, learning_rate, epochs)\n",
    "plot_decision_boundary(X, y, trained_weights)"
   ]
  },
  {
   "cell_type": "code",
   "execution_count": null,
   "id": "e3f64824-50e0-4c48-af27-fbfc05aa95aa",
   "metadata": {},
   "outputs": [],
   "source": []
  }
 ],
 "metadata": {
  "kernelspec": {
   "display_name": "Python 3 (ipykernel)",
   "language": "python",
   "name": "python3"
  },
  "language_info": {
   "codemirror_mode": {
    "name": "ipython",
    "version": 3
   },
   "file_extension": ".py",
   "mimetype": "text/x-python",
   "name": "python",
   "nbconvert_exporter": "python",
   "pygments_lexer": "ipython3",
   "version": "3.12.4"
  }
 },
 "nbformat": 4,
 "nbformat_minor": 5
}
